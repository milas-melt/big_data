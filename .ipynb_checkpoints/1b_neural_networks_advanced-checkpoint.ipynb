{
 "cells": [
  {
   "cell_type": "markdown",
   "metadata": {},
   "source": [
    "## Circles data "
   ]
  },
  {
   "cell_type": "code",
   "execution_count": null,
   "metadata": {},
   "outputs": [],
   "source": [
    "import numpy as np\n",
    "import matplotlib.pyplot as plt\n",
    "\n",
    "def circles(X):\n",
    "    y = np.sin(10*np.sqrt(X[:,0] ** 2 + X[:,1] ** 2))\n",
    "    return y\n",
    "\n",
    "def generate_data(y_func,N=1000):\n",
    "    X = 2*np.random.rand(N,2)-1\n",
    "    y = y_func(X) + 0.25* np.random.randn(N)\n",
    "    return X,y\n",
    "\n",
    "def draw_contours(y_func):\n",
    "    plt.figure(figsize=(6,6))\n",
    "    X1,X2 = np.meshgrid(np.linspace(-1, 1, 30),np.linspace(-1, 1, 30))\n",
    "    Y = y_func(np.c_[X1.ravel(),X2.ravel()]).reshape(X1.shape)\n",
    "    plt.contourf(X1,X2,Y,alpha=0.5)\n",
    "    c = plt.colorbar()\n",
    "    plt.xlabel('$x_{1}$')\n",
    "    plt.ylabel('$x_{2}$')\n",
    "    return None\n",
    "\n",
    "X,y = generate_data(circles)\n",
    "f = draw_contours(circles)\n",
    "s = plt.scatter(X[:,0],X[:,1],c=y) "
   ]
  },
  {
   "cell_type": "markdown",
   "metadata": {},
   "source": [
    "## Predictions using Keras"
   ]
  },
  {
   "cell_type": "code",
   "execution_count": null,
   "metadata": {},
   "outputs": [],
   "source": [
    "from tensorflow.keras.models import Sequential\n",
    "from tensorflow.keras.layers import Dense\n",
    "model = Sequential()\n",
    "model.add(Dense(16, input_dim=2, activation='relu'))\n",
    "model.add(Dense(16, input_dim=2, activation='relu'))\n",
    "model.add(Dense(1, activation='linear'))\n",
    "model.compile(loss='mse', optimizer='adam')\n",
    "model.fit(X, y, epochs=256, batch_size=64,verbose=False)\n",
    "\n",
    "f = draw_contours(model.predict)"
   ]
  },
  {
   "cell_type": "markdown",
   "metadata": {},
   "source": [
    "## Computing predictions from scratch"
   ]
  },
  {
   "cell_type": "markdown",
   "metadata": {},
   "source": [
    "### Initializing a neural network "
   ]
  },
  {
   "cell_type": "code",
   "execution_count": null,
   "metadata": {},
   "outputs": [],
   "source": [
    "def initialize_network(layers):\n",
    "    np.random.seed(108)\n",
    "    pars = [] # store parameters in a list of dictionaries\n",
    "    for j in range(1,len(layers)): # loop over layers\n",
    "        dictionary = {'weight' : np.random.randn(layers[j],layers[j-1]), # weights\n",
    "                      'bias' : np.random.randn(layers[j],1)} # biases\n",
    "        pars.append(dictionary)\n",
    "    return pars\n",
    "\n",
    "p = X.shape[1] # set number of features\n",
    "layers = [p,16,16,1] # set number of units in each layer\n",
    "pars = initialize_network(layers)"
   ]
  },
  {
   "cell_type": "markdown",
   "metadata": {},
   "source": [
    "### Forward pass"
   ]
  },
  {
   "cell_type": "code",
   "execution_count": null,
   "metadata": {},
   "outputs": [],
   "source": [
    "def forward(X,pars):\n",
    "    \n",
    "    # make lists to store elements of the graph in memory\n",
    "    Zs,Hs = [],[]\n",
    "    \n",
    "    # initialize inputs\n",
    "    H = X.T\n",
    "    \n",
    "    # loop over layers\n",
    "    for j in range(len(pars)):\n",
    "        \n",
    "        # get parameters for this layer      \n",
    "        W = pars[j]['weight']\n",
    "        b = pars[j]['bias']\n",
    "                \n",
    "        # activations and output\n",
    "        Z = None # TODO\n",
    "        H = Z if j+1 == len(pars) else Z*(Z>0)\n",
    "         \n",
    "        # save to list\n",
    "        Zs.append(Z)\n",
    "        Hs.append(H)\n",
    "    \n",
    "    return Zs,Hs\n",
    "\n",
    "def predict(X,pars):\n",
    "    Zs,Hs = forward(X,pars)\n",
    "    return Hs[-1].flatten()\n",
    "\n",
    "# test plot using random intialization\n",
    "f = draw_contours(lambda X: predict(X,pars))"
   ]
  },
  {
   "cell_type": "markdown",
   "metadata": {},
   "source": [
    "### Backward pass"
   ]
  },
  {
   "cell_type": "code",
   "execution_count": null,
   "metadata": {},
   "outputs": [],
   "source": [
    "def backprop(Zs,Hs,X,y,pars,lamda=0):\n",
    "    \n",
    "    # setup list for gradients\n",
    "    grads = []\n",
    "    \n",
    "    # data size\n",
    "    m = X.shape[0]\n",
    "\n",
    "    # loop over layers\n",
    "    for j in range(len(pars))[::-1]:\n",
    "        Z = Zs[j]\n",
    "        H = Hs[j]\n",
    "        W = pars[j]['weight']\n",
    "                \n",
    "        # get activations gradient\n",
    "        dZ = (H - y) if j+1 == len(pars) else (Z > 0) * dH\n",
    "        \n",
    "        # get input from previous layer\n",
    "        H_back = Hs[j-1] if j>0 else X.T\n",
    "                \n",
    "        # get parameter gradients\n",
    "        dW = None # TODO\n",
    "        db = np.sum(dZ,axis=1,keepdims=True) / m\n",
    "        \n",
    "        # save to list\n",
    "        grads.append({'weight' : dW, 'bias' : db})\n",
    "        \n",
    "        # move to next layer\n",
    "        if j>0: dH = np.matmul(W.T,dZ)\n",
    "                     \n",
    "    return grads[::-1]"
   ]
  },
  {
   "cell_type": "markdown",
   "metadata": {},
   "source": [
    "### Vanilla gradient descent"
   ]
  },
  {
   "cell_type": "code",
   "execution_count": null,
   "metadata": {},
   "outputs": [],
   "source": [
    "np.random.seed(108)\n",
    "pars = initialize_network([p,16,16,1])\n",
    "learning_rate = 1e-2\n",
    "n_steps = 10000\n",
    "for i in range(0,n_steps):\n",
    "    \n",
    "    # forward and backward pass\n",
    "    Zs, Hs = forward(X,pars)\n",
    "    grads = backprop(Zs,Hs,X,y,pars)\n",
    "\n",
    "    # parameter updates\n",
    "    for j in range(len(pars)):\n",
    "        pars[j]['weight'] -= learning_rate * grads[j]['weight']\n",
    "        pars[j]['bias'] -= learning_rate * grads[j]['bias'] \n",
    "        \n",
    "# plot using optimized parameters \n",
    "f = draw_contours(lambda X: predict(X,pars))"
   ]
  },
  {
   "cell_type": "markdown",
   "metadata": {},
   "source": [
    "### SGD + Adam: TODO (advanced)"
   ]
  },
  {
   "cell_type": "code",
   "execution_count": null,
   "metadata": {},
   "outputs": [],
   "source": []
  },
  {
   "cell_type": "code",
   "execution_count": null,
   "metadata": {},
   "outputs": [],
   "source": []
  }
 ],
 "metadata": {
  "kernelspec": {
   "display_name": "Python 3",
   "language": "python",
   "name": "python3"
  },
  "language_info": {
   "codemirror_mode": {
    "name": "ipython",
    "version": 3
   },
   "file_extension": ".py",
   "mimetype": "text/x-python",
   "name": "python",
   "nbconvert_exporter": "python",
   "pygments_lexer": "ipython3",
   "version": "3.8.8"
  }
 },
 "nbformat": 4,
 "nbformat_minor": 2
}
